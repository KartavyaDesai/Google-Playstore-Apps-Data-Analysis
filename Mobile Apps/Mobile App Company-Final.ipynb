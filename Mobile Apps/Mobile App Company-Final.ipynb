{
 "cells": [
  {
   "cell_type": "markdown",
   "id": "24cd7899",
   "metadata": {},
   "source": [
    "# Mobile App Analysis"
   ]
  },
  {
   "cell_type": "markdown",
   "id": "8db37ab5",
   "metadata": {},
   "source": [
    "### Data Abstract\n",
    "This analysis examines data from the Google Play Store apps to gain insights into user preferences, app ratings, and download trends. By analyzing this data, valuable information can be obtained regarding app performance, user satisfaction, and market trends. This analysis can be useful for app developers, marketers, and stakeholders in making informed decisions on app development, marketing strategies, and identifying potential areas for improvement to enhance user experience and maximize app success.\n",
    "\n",
    "Situation: \n",
    "Jose is a owner of a app development firm, he is required to launch an app. Find a best insights from the data so that he is able to launch the app in the best space to generate maximum profits."
   ]
  },
  {
   "cell_type": "code",
   "execution_count": 1,
   "id": "2d59064d",
   "metadata": {},
   "outputs": [],
   "source": [
    "#Importing requirements\n",
    "import pandas as pd\n",
    "import numpy as np\n",
    "import matplotlib.pyplot as plt\n",
    "import seaborn as sns"
   ]
  },
  {
   "cell_type": "code",
   "execution_count": 2,
   "id": "3d08c9d0",
   "metadata": {},
   "outputs": [
    {
     "data": {
      "text/html": [
       "<div>\n",
       "<style scoped>\n",
       "    .dataframe tbody tr th:only-of-type {\n",
       "        vertical-align: middle;\n",
       "    }\n",
       "\n",
       "    .dataframe tbody tr th {\n",
       "        vertical-align: top;\n",
       "    }\n",
       "\n",
       "    .dataframe thead th {\n",
       "        text-align: right;\n",
       "    }\n",
       "</style>\n",
       "<table border=\"1\" class=\"dataframe\">\n",
       "  <thead>\n",
       "    <tr style=\"text-align: right;\">\n",
       "      <th></th>\n",
       "      <th>App</th>\n",
       "      <th>Category</th>\n",
       "      <th>Rating</th>\n",
       "      <th>Reviews</th>\n",
       "      <th>Size</th>\n",
       "      <th>Installs</th>\n",
       "      <th>Type</th>\n",
       "      <th>Price</th>\n",
       "      <th>Content Rating</th>\n",
       "      <th>Genres</th>\n",
       "      <th>Last Updated</th>\n",
       "      <th>Current Ver</th>\n",
       "      <th>Android Ver</th>\n",
       "    </tr>\n",
       "  </thead>\n",
       "  <tbody>\n",
       "    <tr>\n",
       "      <th>0</th>\n",
       "      <td>Photo Editor &amp; Candy Camera &amp; Grid &amp; ScrapBook</td>\n",
       "      <td>ART_AND_DESIGN</td>\n",
       "      <td>4.1</td>\n",
       "      <td>159</td>\n",
       "      <td>19M</td>\n",
       "      <td>10,000+</td>\n",
       "      <td>Free</td>\n",
       "      <td>0</td>\n",
       "      <td>Everyone</td>\n",
       "      <td>Art &amp; Design</td>\n",
       "      <td>January 7, 2018</td>\n",
       "      <td>1.0.0</td>\n",
       "      <td>4.0.3 and up</td>\n",
       "    </tr>\n",
       "    <tr>\n",
       "      <th>1</th>\n",
       "      <td>Coloring book moana</td>\n",
       "      <td>ART_AND_DESIGN</td>\n",
       "      <td>3.9</td>\n",
       "      <td>967</td>\n",
       "      <td>14M</td>\n",
       "      <td>500,000+</td>\n",
       "      <td>Free</td>\n",
       "      <td>0</td>\n",
       "      <td>Everyone</td>\n",
       "      <td>Art &amp; Design;Pretend Play</td>\n",
       "      <td>January 15, 2018</td>\n",
       "      <td>2.0.0</td>\n",
       "      <td>4.0.3 and up</td>\n",
       "    </tr>\n",
       "    <tr>\n",
       "      <th>2</th>\n",
       "      <td>U Launcher Lite – FREE Live Cool Themes, Hide ...</td>\n",
       "      <td>ART_AND_DESIGN</td>\n",
       "      <td>4.7</td>\n",
       "      <td>87510</td>\n",
       "      <td>8.7M</td>\n",
       "      <td>5,000,000+</td>\n",
       "      <td>Free</td>\n",
       "      <td>0</td>\n",
       "      <td>Everyone</td>\n",
       "      <td>Art &amp; Design</td>\n",
       "      <td>August 1, 2018</td>\n",
       "      <td>1.2.4</td>\n",
       "      <td>4.0.3 and up</td>\n",
       "    </tr>\n",
       "  </tbody>\n",
       "</table>\n",
       "</div>"
      ],
      "text/plain": [
       "                                                 App        Category  Rating  \\\n",
       "0     Photo Editor & Candy Camera & Grid & ScrapBook  ART_AND_DESIGN     4.1   \n",
       "1                                Coloring book moana  ART_AND_DESIGN     3.9   \n",
       "2  U Launcher Lite – FREE Live Cool Themes, Hide ...  ART_AND_DESIGN     4.7   \n",
       "\n",
       "  Reviews  Size    Installs  Type Price Content Rating  \\\n",
       "0     159   19M     10,000+  Free     0       Everyone   \n",
       "1     967   14M    500,000+  Free     0       Everyone   \n",
       "2   87510  8.7M  5,000,000+  Free     0       Everyone   \n",
       "\n",
       "                      Genres      Last Updated Current Ver   Android Ver  \n",
       "0               Art & Design   January 7, 2018       1.0.0  4.0.3 and up  \n",
       "1  Art & Design;Pretend Play  January 15, 2018       2.0.0  4.0.3 and up  \n",
       "2               Art & Design    August 1, 2018       1.2.4  4.0.3 and up  "
      ]
     },
     "execution_count": 2,
     "metadata": {},
     "output_type": "execute_result"
    }
   ],
   "source": [
    "#Reading dataset\n",
    "df_ = pd.read_csv(\"googleplaystore.csv\")\n",
    "#Displaying all columns\n",
    "pd.set_option('display.max_columns', None)\n",
    "#Dataframe\n",
    "df_.head(3)"
   ]
  },
  {
   "cell_type": "code",
   "execution_count": 3,
   "id": "48c59f1f",
   "metadata": {},
   "outputs": [
    {
     "name": "stdout",
     "output_type": "stream",
     "text": [
      "Summary:            App Category       Rating Reviews                Size    Installs  \\\n",
      "count    10841    10841  9367.000000   10841               10841       10841   \n",
      "unique    9660       34          NaN    6002                 462          22   \n",
      "top     ROBLOX   FAMILY          NaN       0  Varies with device  1,000,000+   \n",
      "freq         9     1972          NaN     596                1695        1579   \n",
      "mean       NaN      NaN     4.193338     NaN                 NaN         NaN   \n",
      "std        NaN      NaN     0.537431     NaN                 NaN         NaN   \n",
      "min        NaN      NaN     1.000000     NaN                 NaN         NaN   \n",
      "25%        NaN      NaN     4.000000     NaN                 NaN         NaN   \n",
      "50%        NaN      NaN     4.300000     NaN                 NaN         NaN   \n",
      "75%        NaN      NaN     4.500000     NaN                 NaN         NaN   \n",
      "max        NaN      NaN    19.000000     NaN                 NaN         NaN   \n",
      "\n",
      "         Type  Price Content Rating Genres    Last Updated  \\\n",
      "count   10840  10841          10840  10841           10841   \n",
      "unique      3     93              6    120            1378   \n",
      "top      Free      0       Everyone  Tools  August 3, 2018   \n",
      "freq    10039  10040           8714    842             326   \n",
      "mean      NaN    NaN            NaN    NaN             NaN   \n",
      "std       NaN    NaN            NaN    NaN             NaN   \n",
      "min       NaN    NaN            NaN    NaN             NaN   \n",
      "25%       NaN    NaN            NaN    NaN             NaN   \n",
      "50%       NaN    NaN            NaN    NaN             NaN   \n",
      "75%       NaN    NaN            NaN    NaN             NaN   \n",
      "max       NaN    NaN            NaN    NaN             NaN   \n",
      "\n",
      "               Current Ver Android Ver  \n",
      "count                10833       10838  \n",
      "unique                2832          33  \n",
      "top     Varies with device  4.1 and up  \n",
      "freq                  1459        2451  \n",
      "mean                   NaN         NaN  \n",
      "std                    NaN         NaN  \n",
      "min                    NaN         NaN  \n",
      "25%                    NaN         NaN  \n",
      "50%                    NaN         NaN  \n",
      "75%                    NaN         NaN  \n",
      "max                    NaN         NaN  \n",
      "<class 'pandas.core.frame.DataFrame'>\n",
      "RangeIndex: 10841 entries, 0 to 10840\n",
      "Data columns (total 13 columns):\n",
      " #   Column          Non-Null Count  Dtype  \n",
      "---  ------          --------------  -----  \n",
      " 0   App             10841 non-null  object \n",
      " 1   Category        10841 non-null  object \n",
      " 2   Rating          9367 non-null   float64\n",
      " 3   Reviews         10841 non-null  object \n",
      " 4   Size            10841 non-null  object \n",
      " 5   Installs        10841 non-null  object \n",
      " 6   Type            10840 non-null  object \n",
      " 7   Price           10841 non-null  object \n",
      " 8   Content Rating  10840 non-null  object \n",
      " 9   Genres          10841 non-null  object \n",
      " 10  Last Updated    10841 non-null  object \n",
      " 11  Current Ver     10833 non-null  object \n",
      " 12  Android Ver     10838 non-null  object \n",
      "dtypes: float64(1), object(12)\n",
      "memory usage: 1.1+ MB\n",
      "Dtypes: None\n",
      "Shape: (10841, 13)\n"
     ]
    }
   ],
   "source": [
    "#Dataframe summarised\n",
    "print(\"Summary:\", df_.describe(include=\"all\"))\n",
    "print(\"Dtypes:\", df_.info())\n",
    "print(\"Shape:\", df_.shape)"
   ]
  },
  {
   "cell_type": "markdown",
   "id": "a00ee660",
   "metadata": {},
   "source": [
    "## Data Cleaning"
   ]
  },
  {
   "cell_type": "code",
   "execution_count": 4,
   "id": "6b3824f5",
   "metadata": {},
   "outputs": [
    {
     "data": {
      "text/plain": [
       "App                  0\n",
       "Category             0\n",
       "Rating            1474\n",
       "Reviews              0\n",
       "Size                 0\n",
       "Installs             0\n",
       "Type                 1\n",
       "Price                0\n",
       "Content Rating       1\n",
       "Genres               0\n",
       "Last Updated         0\n",
       "Current Ver          8\n",
       "Android Ver          3\n",
       "dtype: int64"
      ]
     },
     "execution_count": 4,
     "metadata": {},
     "output_type": "execute_result"
    }
   ],
   "source": [
    "#Missing data\n",
    "df_.isna().sum()"
   ]
  },
  {
   "cell_type": "code",
   "execution_count": 5,
   "id": "5cae0a47",
   "metadata": {},
   "outputs": [
    {
     "data": {
      "text/plain": [
       "483"
      ]
     },
     "execution_count": 5,
     "metadata": {},
     "output_type": "execute_result"
    }
   ],
   "source": [
    "#Duplicates\n",
    "df_.duplicated().sum()"
   ]
  },
  {
   "cell_type": "code",
   "execution_count": 6,
   "id": "8646e91b",
   "metadata": {},
   "outputs": [
    {
     "data": {
      "text/html": [
       "<div>\n",
       "<style scoped>\n",
       "    .dataframe tbody tr th:only-of-type {\n",
       "        vertical-align: middle;\n",
       "    }\n",
       "\n",
       "    .dataframe tbody tr th {\n",
       "        vertical-align: top;\n",
       "    }\n",
       "\n",
       "    .dataframe thead th {\n",
       "        text-align: right;\n",
       "    }\n",
       "</style>\n",
       "<table border=\"1\" class=\"dataframe\">\n",
       "  <thead>\n",
       "    <tr style=\"text-align: right;\">\n",
       "      <th></th>\n",
       "      <th>App</th>\n",
       "      <th>Category</th>\n",
       "      <th>Rating</th>\n",
       "      <th>Reviews</th>\n",
       "      <th>Size</th>\n",
       "      <th>Installs</th>\n",
       "      <th>Type</th>\n",
       "      <th>Price</th>\n",
       "      <th>Content Rating</th>\n",
       "      <th>Genres</th>\n",
       "      <th>Last Updated</th>\n",
       "      <th>Current Ver</th>\n",
       "      <th>Android Ver</th>\n",
       "    </tr>\n",
       "  </thead>\n",
       "  <tbody>\n",
       "    <tr>\n",
       "      <th>23</th>\n",
       "      <td>Mcqueen Coloring pages</td>\n",
       "      <td>ART_AND_DESIGN</td>\n",
       "      <td>NaN</td>\n",
       "      <td>61</td>\n",
       "      <td>7.0M</td>\n",
       "      <td>100,000+</td>\n",
       "      <td>Free</td>\n",
       "      <td>0</td>\n",
       "      <td>Everyone</td>\n",
       "      <td>Art &amp; Design;Action &amp; Adventure</td>\n",
       "      <td>March 7, 2018</td>\n",
       "      <td>1.0.0</td>\n",
       "      <td>4.1 and up</td>\n",
       "    </tr>\n",
       "    <tr>\n",
       "      <th>113</th>\n",
       "      <td>Wrinkles and rejuvenation</td>\n",
       "      <td>BEAUTY</td>\n",
       "      <td>NaN</td>\n",
       "      <td>182</td>\n",
       "      <td>5.7M</td>\n",
       "      <td>100,000+</td>\n",
       "      <td>Free</td>\n",
       "      <td>0</td>\n",
       "      <td>Everyone 10+</td>\n",
       "      <td>Beauty</td>\n",
       "      <td>September 20, 2017</td>\n",
       "      <td>8.0</td>\n",
       "      <td>3.0 and up</td>\n",
       "    </tr>\n",
       "    <tr>\n",
       "      <th>123</th>\n",
       "      <td>Manicure - nail design</td>\n",
       "      <td>BEAUTY</td>\n",
       "      <td>NaN</td>\n",
       "      <td>119</td>\n",
       "      <td>3.7M</td>\n",
       "      <td>50,000+</td>\n",
       "      <td>Free</td>\n",
       "      <td>0</td>\n",
       "      <td>Everyone</td>\n",
       "      <td>Beauty</td>\n",
       "      <td>July 23, 2018</td>\n",
       "      <td>1.3</td>\n",
       "      <td>4.1 and up</td>\n",
       "    </tr>\n",
       "    <tr>\n",
       "      <th>126</th>\n",
       "      <td>Skin Care and Natural Beauty</td>\n",
       "      <td>BEAUTY</td>\n",
       "      <td>NaN</td>\n",
       "      <td>654</td>\n",
       "      <td>7.4M</td>\n",
       "      <td>100,000+</td>\n",
       "      <td>Free</td>\n",
       "      <td>0</td>\n",
       "      <td>Teen</td>\n",
       "      <td>Beauty</td>\n",
       "      <td>July 17, 2018</td>\n",
       "      <td>1.15</td>\n",
       "      <td>4.1 and up</td>\n",
       "    </tr>\n",
       "    <tr>\n",
       "      <th>129</th>\n",
       "      <td>Secrets of beauty, youth and health</td>\n",
       "      <td>BEAUTY</td>\n",
       "      <td>NaN</td>\n",
       "      <td>77</td>\n",
       "      <td>2.9M</td>\n",
       "      <td>10,000+</td>\n",
       "      <td>Free</td>\n",
       "      <td>0</td>\n",
       "      <td>Mature 17+</td>\n",
       "      <td>Beauty</td>\n",
       "      <td>August 8, 2017</td>\n",
       "      <td>2.0</td>\n",
       "      <td>2.3 and up</td>\n",
       "    </tr>\n",
       "    <tr>\n",
       "      <th>...</th>\n",
       "      <td>...</td>\n",
       "      <td>...</td>\n",
       "      <td>...</td>\n",
       "      <td>...</td>\n",
       "      <td>...</td>\n",
       "      <td>...</td>\n",
       "      <td>...</td>\n",
       "      <td>...</td>\n",
       "      <td>...</td>\n",
       "      <td>...</td>\n",
       "      <td>...</td>\n",
       "      <td>...</td>\n",
       "      <td>...</td>\n",
       "    </tr>\n",
       "    <tr>\n",
       "      <th>10824</th>\n",
       "      <td>Cardio-FR</td>\n",
       "      <td>MEDICAL</td>\n",
       "      <td>NaN</td>\n",
       "      <td>67</td>\n",
       "      <td>82M</td>\n",
       "      <td>10,000+</td>\n",
       "      <td>Free</td>\n",
       "      <td>0</td>\n",
       "      <td>Everyone</td>\n",
       "      <td>Medical</td>\n",
       "      <td>July 31, 2018</td>\n",
       "      <td>2.2.2</td>\n",
       "      <td>4.4 and up</td>\n",
       "    </tr>\n",
       "    <tr>\n",
       "      <th>10825</th>\n",
       "      <td>Naruto &amp; Boruto FR</td>\n",
       "      <td>SOCIAL</td>\n",
       "      <td>NaN</td>\n",
       "      <td>7</td>\n",
       "      <td>7.7M</td>\n",
       "      <td>100+</td>\n",
       "      <td>Free</td>\n",
       "      <td>0</td>\n",
       "      <td>Teen</td>\n",
       "      <td>Social</td>\n",
       "      <td>February 2, 2018</td>\n",
       "      <td>1.0</td>\n",
       "      <td>4.0 and up</td>\n",
       "    </tr>\n",
       "    <tr>\n",
       "      <th>10831</th>\n",
       "      <td>payermonstationnement.fr</td>\n",
       "      <td>MAPS_AND_NAVIGATION</td>\n",
       "      <td>NaN</td>\n",
       "      <td>38</td>\n",
       "      <td>9.8M</td>\n",
       "      <td>5,000+</td>\n",
       "      <td>Free</td>\n",
       "      <td>0</td>\n",
       "      <td>Everyone</td>\n",
       "      <td>Maps &amp; Navigation</td>\n",
       "      <td>June 13, 2018</td>\n",
       "      <td>2.0.148.0</td>\n",
       "      <td>4.0 and up</td>\n",
       "    </tr>\n",
       "    <tr>\n",
       "      <th>10835</th>\n",
       "      <td>FR Forms</td>\n",
       "      <td>BUSINESS</td>\n",
       "      <td>NaN</td>\n",
       "      <td>0</td>\n",
       "      <td>9.6M</td>\n",
       "      <td>10+</td>\n",
       "      <td>Free</td>\n",
       "      <td>0</td>\n",
       "      <td>Everyone</td>\n",
       "      <td>Business</td>\n",
       "      <td>September 29, 2016</td>\n",
       "      <td>1.1.5</td>\n",
       "      <td>4.0 and up</td>\n",
       "    </tr>\n",
       "    <tr>\n",
       "      <th>10838</th>\n",
       "      <td>Parkinson Exercices FR</td>\n",
       "      <td>MEDICAL</td>\n",
       "      <td>NaN</td>\n",
       "      <td>3</td>\n",
       "      <td>9.5M</td>\n",
       "      <td>1,000+</td>\n",
       "      <td>Free</td>\n",
       "      <td>0</td>\n",
       "      <td>Everyone</td>\n",
       "      <td>Medical</td>\n",
       "      <td>January 20, 2017</td>\n",
       "      <td>1.0</td>\n",
       "      <td>2.2 and up</td>\n",
       "    </tr>\n",
       "  </tbody>\n",
       "</table>\n",
       "<p>1474 rows × 13 columns</p>\n",
       "</div>"
      ],
      "text/plain": [
       "                                       App             Category  Rating  \\\n",
       "23                  Mcqueen Coloring pages       ART_AND_DESIGN     NaN   \n",
       "113              Wrinkles and rejuvenation               BEAUTY     NaN   \n",
       "123                 Manicure - nail design               BEAUTY     NaN   \n",
       "126           Skin Care and Natural Beauty               BEAUTY     NaN   \n",
       "129    Secrets of beauty, youth and health               BEAUTY     NaN   \n",
       "...                                    ...                  ...     ...   \n",
       "10824                            Cardio-FR              MEDICAL     NaN   \n",
       "10825                   Naruto & Boruto FR               SOCIAL     NaN   \n",
       "10831             payermonstationnement.fr  MAPS_AND_NAVIGATION     NaN   \n",
       "10835                             FR Forms             BUSINESS     NaN   \n",
       "10838               Parkinson Exercices FR              MEDICAL     NaN   \n",
       "\n",
       "      Reviews  Size  Installs  Type Price Content Rating  \\\n",
       "23         61  7.0M  100,000+  Free     0       Everyone   \n",
       "113       182  5.7M  100,000+  Free     0   Everyone 10+   \n",
       "123       119  3.7M   50,000+  Free     0       Everyone   \n",
       "126       654  7.4M  100,000+  Free     0           Teen   \n",
       "129        77  2.9M   10,000+  Free     0     Mature 17+   \n",
       "...       ...   ...       ...   ...   ...            ...   \n",
       "10824      67   82M   10,000+  Free     0       Everyone   \n",
       "10825       7  7.7M      100+  Free     0           Teen   \n",
       "10831      38  9.8M    5,000+  Free     0       Everyone   \n",
       "10835       0  9.6M       10+  Free     0       Everyone   \n",
       "10838       3  9.5M    1,000+  Free     0       Everyone   \n",
       "\n",
       "                                Genres        Last Updated Current Ver  \\\n",
       "23     Art & Design;Action & Adventure       March 7, 2018       1.0.0   \n",
       "113                             Beauty  September 20, 2017         8.0   \n",
       "123                             Beauty       July 23, 2018         1.3   \n",
       "126                             Beauty       July 17, 2018        1.15   \n",
       "129                             Beauty      August 8, 2017         2.0   \n",
       "...                                ...                 ...         ...   \n",
       "10824                          Medical       July 31, 2018       2.2.2   \n",
       "10825                           Social    February 2, 2018         1.0   \n",
       "10831                Maps & Navigation       June 13, 2018   2.0.148.0   \n",
       "10835                         Business  September 29, 2016       1.1.5   \n",
       "10838                          Medical    January 20, 2017         1.0   \n",
       "\n",
       "      Android Ver  \n",
       "23     4.1 and up  \n",
       "113    3.0 and up  \n",
       "123    4.1 and up  \n",
       "126    4.1 and up  \n",
       "129    2.3 and up  \n",
       "...           ...  \n",
       "10824  4.4 and up  \n",
       "10825  4.0 and up  \n",
       "10831  4.0 and up  \n",
       "10835  4.0 and up  \n",
       "10838  2.2 and up  \n",
       "\n",
       "[1474 rows x 13 columns]"
      ]
     },
     "execution_count": 6,
     "metadata": {},
     "output_type": "execute_result"
    }
   ],
   "source": [
    "#Removing missing values\n",
    "df_[df_[\"Rating\"].isna()]"
   ]
  },
  {
   "cell_type": "code",
   "execution_count": 7,
   "id": "69f5eae3",
   "metadata": {},
   "outputs": [
    {
     "data": {
      "text/plain": [
       "Category             Category           \n",
       "FAMILY               FAMILY                 225\n",
       "BUSINESS             BUSINESS               157\n",
       "MEDICAL              MEDICAL                113\n",
       "TOOLS                TOOLS                  109\n",
       "PERSONALIZATION      PERSONALIZATION         78\n",
       "PRODUCTIVITY         PRODUCTIVITY            73\n",
       "LIFESTYLE            LIFESTYLE               68\n",
       "SPORTS               SPORTS                  65\n",
       "COMMUNICATION        COMMUNICATION           59\n",
       "BOOKS_AND_REFERENCE  BOOKS_AND_REFERENCE     53\n",
       "NEWS_AND_MAGAZINES   NEWS_AND_MAGAZINES      50\n",
       "GAME                 GAME                    47\n",
       "HEALTH_AND_FITNESS   HEALTH_AND_FITNESS      44\n",
       "FINANCE              FINANCE                 43\n",
       "DATING               DATING                  39\n",
       "SOCIAL               SOCIAL                  36\n",
       "TRAVEL_AND_LOCAL     TRAVEL_AND_LOCAL        32\n",
       "SHOPPING             SHOPPING                22\n",
       "LIBRARIES_AND_DEMO   LIBRARIES_AND_DEMO      20\n",
       "EVENTS               EVENTS                  19\n",
       "FOOD_AND_DRINK       FOOD_AND_DRINK          18\n",
       "PHOTOGRAPHY          PHOTOGRAPHY             18\n",
       "VIDEO_PLAYERS        VIDEO_PLAYERS           15\n",
       "MAPS_AND_NAVIGATION  MAPS_AND_NAVIGATION     13\n",
       "HOUSE_AND_HOME       HOUSE_AND_HOME          12\n",
       "AUTO_AND_VEHICLES    AUTO_AND_VEHICLES       12\n",
       "BEAUTY               BEAUTY                  11\n",
       "PARENTING            PARENTING               10\n",
       "WEATHER              WEATHER                  7\n",
       "ART_AND_DESIGN       ART_AND_DESIGN           3\n",
       "COMICS               COMICS                   2\n",
       "EDUCATION            EDUCATION                1\n",
       "Name: Category, dtype: int64"
      ]
     },
     "execution_count": 7,
     "metadata": {},
     "output_type": "execute_result"
    }
   ],
   "source": [
    "#Checking for category having highest missing values\n",
    "df_[df_[\"Rating\"].isna()].groupby(\"Category\")[\"Category\"].value_counts().sort_values(ascending=False)"
   ]
  },
  {
   "cell_type": "code",
   "execution_count": 8,
   "id": "c5e959a2",
   "metadata": {},
   "outputs": [],
   "source": [
    "#Removing Duplicates\n",
    "df_.drop_duplicates(subset=[\"App\", \"Last Updated\", \"Current Ver\"], keep=\"first\", ignore_index=True, inplace=True)"
   ]
  },
  {
   "cell_type": "markdown",
   "id": "d4f3a899",
   "metadata": {},
   "source": [
    "#### Removing data where the installs are less than 10k and no ratings\n"
   ]
  },
  {
   "cell_type": "code",
   "execution_count": 9,
   "id": "7d289cd7",
   "metadata": {},
   "outputs": [],
   "source": [
    "import re\n",
    "pattern = r'(\\d[\\d,.]*)'\n",
    "df_[\"Installs\"]=df_[\"Installs\"].astype(str).str.findall(pattern).apply(lambda x: float(x[-1].replace(',', '')) if x else None)"
   ]
  },
  {
   "cell_type": "code",
   "execution_count": 10,
   "id": "8e146e52",
   "metadata": {},
   "outputs": [],
   "source": [
    "filt1 = df_[df_[\"Rating\"].isna()][\"Installs\"].where(df_[\"Installs\"]>= 10000.0).notnull()"
   ]
  },
  {
   "cell_type": "code",
   "execution_count": 11,
   "id": "8220d93d",
   "metadata": {},
   "outputs": [],
   "source": [
    "j = df_.where(df_[\"Installs\"] >= 10000.0)[\"Installs\"].isna() # Represents, installs < 10k\n",
    "l = df_[\"Rating\"].isna() #Represents, rating is NaN"
   ]
  },
  {
   "cell_type": "code",
   "execution_count": 12,
   "id": "2473004c",
   "metadata": {},
   "outputs": [],
   "source": [
    "df_ = df_[~((l==True)&(j==True))]"
   ]
  },
  {
   "cell_type": "code",
   "execution_count": 13,
   "id": "b644264d",
   "metadata": {},
   "outputs": [],
   "source": [
    "df_.reset_index(drop=True, inplace=True)"
   ]
  },
  {
   "cell_type": "code",
   "execution_count": 14,
   "id": "82942fa4",
   "metadata": {},
   "outputs": [
    {
     "data": {
      "text/plain": [
       "Category             Category           \n",
       "LIBRARIES_AND_DEMO   LIBRARIES_AND_DEMO     10\n",
       "FAMILY               FAMILY                  9\n",
       "PARENTING            PARENTING               9\n",
       "BEAUTY               BEAUTY                  6\n",
       "FOOD_AND_DRINK       FOOD_AND_DRINK          4\n",
       "NEWS_AND_MAGAZINES   NEWS_AND_MAGAZINES      4\n",
       "HOUSE_AND_HOME       HOUSE_AND_HOME          3\n",
       "TOOLS                TOOLS                   3\n",
       "BOOKS_AND_REFERENCE  BOOKS_AND_REFERENCE     3\n",
       "PERSONALIZATION      PERSONALIZATION         3\n",
       "SPORTS               SPORTS                  2\n",
       "FINANCE              FINANCE                 2\n",
       "GAME                 GAME                    2\n",
       "LIFESTYLE            LIFESTYLE               2\n",
       "MEDICAL              MEDICAL                 2\n",
       "BUSINESS             BUSINESS                2\n",
       "SOCIAL               SOCIAL                  1\n",
       "PRODUCTIVITY         PRODUCTIVITY            1\n",
       "SHOPPING             SHOPPING                1\n",
       "TRAVEL_AND_LOCAL     TRAVEL_AND_LOCAL        1\n",
       "ART_AND_DESIGN       ART_AND_DESIGN          1\n",
       "HEALTH_AND_FITNESS   HEALTH_AND_FITNESS      1\n",
       "EVENTS               EVENTS                  1\n",
       "EDUCATION            EDUCATION               1\n",
       "COMMUNICATION        COMMUNICATION           1\n",
       "COMICS               COMICS                  1\n",
       "VIDEO_PLAYERS        VIDEO_PLAYERS           1\n",
       "Name: Category, dtype: int64"
      ]
     },
     "execution_count": 14,
     "metadata": {},
     "output_type": "execute_result"
    }
   ],
   "source": [
    "df_[df_[\"Rating\"].isna()].groupby(\"Category\")[\"Category\"].value_counts().sort_values(ascending=False)"
   ]
  },
  {
   "cell_type": "code",
   "execution_count": 15,
   "id": "0af1fae3",
   "metadata": {},
   "outputs": [
    {
     "data": {
      "text/plain": [
       "4.184848484848485"
      ]
     },
     "execution_count": 15,
     "metadata": {},
     "output_type": "execute_result"
    }
   ],
   "source": [
    "#Categorywise Ratings mean. \n",
    "rating_by_cat_mean = df_.groupby(\"Category\")[\"Rating\"].mean().round(decimals=1)\n",
    "#General Rating mean\n",
    "rating_by_cat_mean[1:].mean()"
   ]
  },
  {
   "cell_type": "code",
   "execution_count": 16,
   "id": "02abc1df",
   "metadata": {},
   "outputs": [],
   "source": [
    "df_[\"Rating\"].fillna(4.1, inplace=True)"
   ]
  },
  {
   "cell_type": "markdown",
   "id": "71f9f379",
   "metadata": {},
   "source": [
    "As we can observe that the mean value of rating is 4.1. Hence, we are replacing the filtered missing values by 4.1 to have a clean data."
   ]
  },
  {
   "cell_type": "code",
   "execution_count": 17,
   "id": "40ff5d10",
   "metadata": {},
   "outputs": [
    {
     "data": {
      "text/plain": [
       "0"
      ]
     },
     "execution_count": 17,
     "metadata": {},
     "output_type": "execute_result"
    }
   ],
   "source": [
    "df_[\"Rating\"].isna().sum()"
   ]
  },
  {
   "cell_type": "markdown",
   "id": "24b1eb2c",
   "metadata": {},
   "source": [
    "Data is cleaned based on following parameters: \n",
    "- Removing data having no ratings and installs less than 10,000.\n",
    "- Removing duplicates.\n",
    "- Substituting the ratings, in filtered missing values by the mean."
   ]
  },
  {
   "cell_type": "markdown",
   "id": "26c7dbe9",
   "metadata": {},
   "source": [
    "### Top 5 Categories in Playstore."
   ]
  },
  {
   "cell_type": "code",
   "execution_count": 18,
   "id": "1f8beecb",
   "metadata": {},
   "outputs": [
    {
     "data": {
      "text/plain": [
       "Category      Category    \n",
       "FAMILY        FAMILY          1624\n",
       "GAME          GAME             918\n",
       "TOOLS         TOOLS            725\n",
       "FINANCE       FINANCE          305\n",
       "PRODUCTIVITY  PRODUCTIVITY     304\n",
       "Name: Category, dtype: int64"
      ]
     },
     "execution_count": 18,
     "metadata": {},
     "output_type": "execute_result"
    }
   ],
   "source": [
    "test2 =df_.groupby(\"Category\")[\"Category\"].value_counts().sort_values(ascending=False).head(5)\n",
    "test2"
   ]
  },
  {
   "cell_type": "code",
   "execution_count": 19,
   "id": "51332d7d",
   "metadata": {},
   "outputs": [],
   "source": [
    "xyz = test2.droplevel(1).to_frame()"
   ]
  },
  {
   "cell_type": "code",
   "execution_count": 20,
   "id": "56f243ba",
   "metadata": {},
   "outputs": [
    {
     "data": {
      "image/png": "[encoded data removed]",
      "text/plain": [
       "<Figure size 600x300 with 1 Axes>"
      ]
     },
     "metadata": {},
     "output_type": "display_data"
    }
   ],
   "source": [
    "sns.catplot(data=xyz, x=xyz.index.values.tolist(), y=xyz[\"Category\"].values.tolist(), kind=\"bar\", height=3, aspect=2)\n",
    "plt.xlabel(\"Categories\", size=16)\n",
    "plt.ylabel(\"Number of Apps\", size=16)\n",
    "plt.title(\"Top5 Categories in playstore\", size=18)\n",
    "plt.show()"
   ]
  },
  {
   "cell_type": "markdown",
   "id": "bafd4d1d",
   "metadata": {},
   "source": [
    "### Free and Paid Apps"
   ]
  },
  {
   "cell_type": "code",
   "execution_count": 21,
   "id": "5b28e2c4",
   "metadata": {},
   "outputs": [],
   "source": [
    "df_[\"Type\"] = df_[\"Type\"].replace(\"0\",\"Free\")"
   ]
  },
  {
   "cell_type": "code",
   "execution_count": 22,
   "id": "dd2555d4",
   "metadata": {},
   "outputs": [
    {
     "data": {
      "image/png": "[encoded data removed]",
      "text/plain": [
       "<Figure size 640x480 with 1 Axes>"
      ]
     },
     "metadata": {},
     "output_type": "display_data"
    }
   ],
   "source": [
    "labels=[\"Free\", \"Paid\"]\n",
    "colors=[\"darkolivegreen\", \"sandybrown\"]\n",
    "explode=[0,0.2]\n",
    "plt.pie(df_[\"Type\"].value_counts(), labels = labels, colors = colors, autopct='%.0f%%', shadow=True, explode=explode)\n",
    "plt.title(\"Apps Classification by Free and Paid\")\n",
    "plt.show()"
   ]
  },
  {
   "cell_type": "markdown",
   "id": "81424389",
   "metadata": {},
   "source": [
    "Free apps forms majority in the google playstore"
   ]
  },
  {
   "cell_type": "markdown",
   "id": "337f07db",
   "metadata": {},
   "source": [
    "### Average reviews for Paid Vs Free apps"
   ]
  },
  {
   "cell_type": "code",
   "execution_count": 23,
   "id": "3df95491",
   "metadata": {},
   "outputs": [],
   "source": [
    "df_[\"Reviews\"] = df_[\"Reviews\"].str.extract('(\\d+)')"
   ]
  },
  {
   "cell_type": "code",
   "execution_count": 24,
   "id": "b94e21f3",
   "metadata": {},
   "outputs": [],
   "source": [
    "df_[\"Reviews\"] = pd.to_numeric(df_[\"Reviews\"])"
   ]
  },
  {
   "cell_type": "code",
   "execution_count": 25,
   "id": "096298d3",
   "metadata": {},
   "outputs": [
    {
     "data": {
      "text/plain": [
       "Type\n",
       "Free    280721.0\n",
       "Paid     10919.0\n",
       "Name: Reviews, dtype: float64"
      ]
     },
     "execution_count": 25,
     "metadata": {},
     "output_type": "execute_result"
    }
   ],
   "source": [
    "df_.groupby(\"Type\")[\"Reviews\"].mean().round()"
   ]
  },
  {
   "cell_type": "code",
   "execution_count": 26,
   "id": "996c46e1",
   "metadata": {},
   "outputs": [
    {
     "data": {
      "image/png": "[encoded data removed]",
      "text/plain": [
       "<Figure size 640x480 with 1 Axes>"
      ]
     },
     "metadata": {},
     "output_type": "display_data"
    }
   ],
   "source": [
    "labels=[\"Free\", \"Paid\"]\n",
    "colors=[\"khaki\", \"darkkhaki\"]\n",
    "explode=[0,0.4]\n",
    "plt.pie(df_.groupby(\"Type\")[\"Reviews\"].mean().round(), labels = labels, colors = colors, autopct='%.0f%%', shadow=True, explode=explode)\n",
    "plt.title(\"Average number of reviews in Free and Paid Apps\")\n",
    "plt.show()"
   ]
  },
  {
   "cell_type": "markdown",
   "id": "8ae0a0f7",
   "metadata": {},
   "source": [
    "### Top 5 Categories with more installs\n",
    "It will give the category with potential market."
   ]
  },
  {
   "cell_type": "code",
   "execution_count": 27,
   "id": "48bad9f0",
   "metadata": {},
   "outputs": [
    {
     "data": {
      "text/plain": [
       "Category       App                 Installs      Type  Genres       \n",
       "COMMUNICATION  WhatsApp Messenger  1.000000e+09  Free  Communication    1\n",
       "PHOTOGRAPHY    Google Photos       1.000000e+09  Free  Photography      1\n",
       "PRODUCTIVITY   Google Drive        1.000000e+09  Free  Productivity     1\n",
       "SOCIAL         Google+             1.000000e+09  Free  Social           1\n",
       "               Instagram           1.000000e+09  Free  Social           1\n",
       "dtype: int64"
      ]
     },
     "execution_count": 27,
     "metadata": {},
     "output_type": "execute_result"
    }
   ],
   "source": [
    "df_.sort_values(by=\"Installs\", ascending=False)[[\"Category\", \"App\", \"Installs\", \"Type\", \"Genres\"]].head().value_counts()"
   ]
  },
  {
   "cell_type": "markdown",
   "id": "3f34cfa8",
   "metadata": {},
   "source": [
    "### Genre with most reviews"
   ]
  },
  {
   "cell_type": "code",
   "execution_count": 28,
   "id": "d0ce3213",
   "metadata": {},
   "outputs": [
    {
     "data": {
      "text/plain": [
       "App                                                 Category       Reviews \n",
       "Clash Royale                                        GAME           23133508    1\n",
       "Clash of Clans                                      GAME           44891723    1\n",
       "Clean Master- Space Cleaner & Antivirus             TOOLS          42916526    1\n",
       "Facebook                                            SOCIAL         78158306    1\n",
       "Instagram                                           SOCIAL         66577313    1\n",
       "Messenger – Text and Video Chat for Free            COMMUNICATION  56642847    1\n",
       "Security Master - Antivirus, VPN, AppLock, Booster  TOOLS          24900999    1\n",
       "Subway Surfers                                      GAME           27722264    1\n",
       "WhatsApp Messenger                                  COMMUNICATION  69119316    1\n",
       "YouTube                                             VIDEO_PLAYERS  25655305    1\n",
       "dtype: int64"
      ]
     },
     "execution_count": 28,
     "metadata": {},
     "output_type": "execute_result"
    }
   ],
   "source": [
    "df_.sort_values(by=\"Reviews\", ascending=False)[[\"App\", \"Category\", \"Reviews\"]].head(10).value_counts()"
   ]
  },
  {
   "cell_type": "markdown",
   "id": "6e5e8f02",
   "metadata": {},
   "source": [
    "It shows that user tend to share feedbacks more in the case of communication/social (Connectivity) category apps which may indicate that they are more concerned with its usage"
   ]
  },
  {
   "cell_type": "markdown",
   "id": "f9d5f04e",
   "metadata": {},
   "source": [
    "### Content Rating"
   ]
  },
  {
   "cell_type": "code",
   "execution_count": 29,
   "id": "ebdb7458",
   "metadata": {},
   "outputs": [],
   "source": [
    "test4 = df_[\"Content Rating\"].value_counts().reset_index()"
   ]
  },
  {
   "cell_type": "code",
   "execution_count": 30,
   "id": "e215b64c",
   "metadata": {},
   "outputs": [],
   "source": [
    "sns.set_theme(style=\"whitegrid\")"
   ]
  },
  {
   "cell_type": "code",
   "execution_count": 31,
   "id": "05340bae",
   "metadata": {},
   "outputs": [
    {
     "data": {
      "text/plain": [
       "<Figure size 2000x2000 with 0 Axes>"
      ]
     },
     "metadata": {},
     "output_type": "display_data"
    },
    {
     "data": {
      "image/png": "[encoded data removed]",
      "text/plain": [
       "<Figure size 1000x500 with 1 Axes>"
      ]
     },
     "metadata": {},
     "output_type": "display_data"
    }
   ],
   "source": [
    "plt.figure(figsize=(20, 20))\n",
    "sns.catplot(\n",
    "    data=test4, kind=\"bar\",\n",
    "    x=\"index\", y=\"Content Rating\", palette=\"dark\", alpha=.6, height=5, aspect=2\n",
    ")\n",
    "plt.xlabel(\"Content Rating Types\", size=16)\n",
    "plt.ylabel(\"Number of Apps\", size=16)\n",
    "plt.title(\"Most common type of content rating in apps\", size=18)\n",
    "plt.show()"
   ]
  },
  {
   "cell_type": "markdown",
   "id": "108683a9",
   "metadata": {},
   "source": [
    "Apps made for \"Everyone\" leads the app list, hence it may show potential area to develop. "
   ]
  },
  {
   "cell_type": "markdown",
   "id": "8263e3cd",
   "metadata": {},
   "source": [
    "### Understanding the size"
   ]
  },
  {
   "cell_type": "code",
   "execution_count": 32,
   "id": "3240c018",
   "metadata": {},
   "outputs": [],
   "source": [
    "df_[\"Size\"] = df_[\"Size\"].str.extract('(\\d+)')"
   ]
  },
  {
   "cell_type": "code",
   "execution_count": 33,
   "id": "e49a2d67",
   "metadata": {},
   "outputs": [],
   "source": [
    "df_[\"Size\"]=pd.to_numeric(df_[\"Size\"])"
   ]
  },
  {
   "cell_type": "code",
   "execution_count": 34,
   "id": "3a73c593",
   "metadata": {},
   "outputs": [
    {
     "name": "stdout",
     "output_type": "stream",
     "text": [
      "      Size Size_Category\n",
      "0     19.0             B\n",
      "1     14.0             B\n",
      "2      8.0             A\n",
      "3     25.0             B\n",
      "4      2.0             A\n",
      "...    ...           ...\n",
      "8313   2.0             A\n",
      "8314  53.0             D\n",
      "8315   3.0             A\n",
      "8316   NaN             I\n",
      "8317  19.0             B\n",
      "\n",
      "[8318 rows x 2 columns]\n"
     ]
    }
   ],
   "source": [
    "bins = pd.IntervalIndex.from_tuples([(0, 10), (10, 30), (30, 50), (50, 80), (80, 100),(100,200), (200, 300), (300,400), (400, np.max(df_[\"Size\"]) + 1)], closed='left')\n",
    "a = list('ABCDEFGHI')\n",
    "df_['Size_Category'] = np.array(a)[pd.cut(df_[\"Size\"], bins = bins).cat.codes]\n",
    "print (df_[[\"Size\", \"Size_Category\"]])"
   ]
  },
  {
   "cell_type": "code",
   "execution_count": 35,
   "id": "020261ac",
   "metadata": {},
   "outputs": [
    {
     "data": {
      "text/plain": [
       "A    2827\n",
       "B    2196\n",
       "I    1320\n",
       "C     987\n",
       "D     618\n",
       "E     265\n",
       "F      41\n",
       "G      34\n",
       "H      30\n",
       "Name: Size_Category, dtype: int64"
      ]
     },
     "execution_count": 35,
     "metadata": {},
     "output_type": "execute_result"
    }
   ],
   "source": [
    "df_[\"Size_Category\"].value_counts()"
   ]
  },
  {
   "cell_type": "code",
   "execution_count": 36,
   "id": "a895c945",
   "metadata": {},
   "outputs": [
    {
     "data": {
      "image/png": "[encoded data removed]",
      "text/plain": [
       "<Figure size 1000x800 with 1 Axes>"
      ]
     },
     "metadata": {},
     "output_type": "display_data"
    }
   ],
   "source": [
    "plt.figure(figsize=(10,8))\n",
    "sns.scatterplot(data=df_, x=\"Installs\", y=\"Size\",size=\"Size_Category\", hue=\"Size_Category\",palette=\"dark\",sizes=(50, 200),legend=\"full\", alpha=0.6)\n",
    "plt.ylabel(\"Size\")\n",
    "plt.xlabel(\"Installs\")\n",
    "# plt.xlim(0, 1000000000)\n",
    "plt.show()"
   ]
  },
  {
   "cell_type": "markdown",
   "id": "1fa60e5c",
   "metadata": {},
   "source": [
    "This shows that the most of the apps installed have size 400 or greater. The app with significantly high downloads have small sizes. "
   ]
  },
  {
   "cell_type": "markdown",
   "id": "23537eb1",
   "metadata": {},
   "source": [
    "### App Categories for potential market"
   ]
  },
  {
   "cell_type": "code",
   "execution_count": 37,
   "id": "ccff0cc0",
   "metadata": {},
   "outputs": [
    {
     "data": {
      "text/plain": [
       "PHOTOGRAPHY            2\n",
       "TRAVEL_AND_LOCAL       2\n",
       "BOOKS_AND_REFERENCE    1\n",
       "ENTERTAINMENT          1\n",
       "HEALTH_AND_FITNESS     1\n",
       "Name: Category, dtype: int64"
      ]
     },
     "execution_count": 37,
     "metadata": {},
     "output_type": "execute_result"
    }
   ],
   "source": [
    "df_.loc[df_[\"Installs\"] > 100000000.0][\"Category\"].value_counts().tail(5)"
   ]
  },
  {
   "cell_type": "markdown",
   "id": "713a05d5",
   "metadata": {},
   "source": [
    "These categories are having a considerable amount of installs and have less competition. An optimized app in these categories may lead to a successful app."
   ]
  },
  {
   "cell_type": "markdown",
   "id": "a648961c",
   "metadata": {},
   "source": [
    "## Conclusion\n",
    "As an App Development Company, Jose should develop app having following features:\n",
    "- Category : Communication, Family, Photography\n",
    "- Type : Free \n",
    "- Content Rating : Everyone\n",
    "- Size : 10 - 80 MB\n",
    "\n",
    "These app that matches these requirements have potential to reach large audience\n",
    "\n",
    "App in Social/Communication category are engaging highly directly with the customers. It can also be taken into account based on the purpose."
   ]
  },
  {
   "cell_type": "markdown",
   "id": "66b54ed6",
   "metadata": {},
   "source": [
    "## An Analysis of Google Playstore Apps Data by Kartavya Desai"
   ]
  },
  {
   "cell_type": "code",
   "execution_count": null,
   "id": "826af23c",
   "metadata": {},
   "outputs": [],
   "source": []
  }
 ],
 "metadata": {
  "kernelspec": {
   "display_name": "Python 3 (ipykernel)",
   "language": "python",
   "name": "python3"
  },
  "language_info": {
   "codemirror_mode": {
    "name": "ipython",
    "version": 3
   },
   "file_extension": ".py",
   "mimetype": "text/x-python",
   "name": "python",
   "nbconvert_exporter": "python",
   "pygments_lexer": "ipython3",
   "version": "3.9.13"
  }
 },
 "nbformat": 4,
 "nbformat_minor": 5
}
